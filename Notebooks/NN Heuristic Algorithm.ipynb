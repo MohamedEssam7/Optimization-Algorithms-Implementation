{
  "cells": [
    {
      "cell_type": "markdown",
      "metadata": {
        "id": "bZHs7DeZrcdT"
      },
      "source": [
        "# NN Heuristic Algorithm"
      ]
    },
    {
      "cell_type": "code",
      "execution_count": 48,
      "metadata": {
        "id": "KqZWauS9TdRC"
      },
      "outputs": [],
      "source": [
        "import numpy as np\n",
        "import pandas as pd\n",
        "import random"
      ]
    },
    {
      "cell_type": "code",
      "execution_count": 49,
      "metadata": {
        "colab": {
          "base_uri": "https://localhost:8080/",
          "height": 519
        },
        "id": "Z9GBneLkVA8D",
        "outputId": "67ec2114-061e-4e94-d583-88bc1b06bfbf"
      },
      "outputs": [
        {
          "data": {
            "text/html": [
              "<div>\n",
              "<style scoped>\n",
              "    .dataframe tbody tr th:only-of-type {\n",
              "        vertical-align: middle;\n",
              "    }\n",
              "\n",
              "    .dataframe tbody tr th {\n",
              "        vertical-align: top;\n",
              "    }\n",
              "\n",
              "    .dataframe thead th {\n",
              "        text-align: right;\n",
              "    }\n",
              "</style>\n",
              "<table border=\"1\" class=\"dataframe\">\n",
              "  <thead>\n",
              "    <tr style=\"text-align: right;\">\n",
              "      <th></th>\n",
              "      <th>x</th>\n",
              "      <th>y</th>\n",
              "      <th>City</th>\n",
              "    </tr>\n",
              "  </thead>\n",
              "  <tbody>\n",
              "    <tr>\n",
              "      <th>0</th>\n",
              "      <td>5.500000e-08</td>\n",
              "      <td>9.860000e-09</td>\n",
              "      <td>1</td>\n",
              "    </tr>\n",
              "    <tr>\n",
              "      <th>1</th>\n",
              "      <td>-2.887330e+01</td>\n",
              "      <td>-7.980000e-08</td>\n",
              "      <td>2</td>\n",
              "    </tr>\n",
              "    <tr>\n",
              "      <th>2</th>\n",
              "      <td>-7.929160e+01</td>\n",
              "      <td>-2.140330e+01</td>\n",
              "      <td>3</td>\n",
              "    </tr>\n",
              "    <tr>\n",
              "      <th>3</th>\n",
              "      <td>-1.465770e+01</td>\n",
              "      <td>-4.338960e+01</td>\n",
              "      <td>4</td>\n",
              "    </tr>\n",
              "    <tr>\n",
              "      <th>4</th>\n",
              "      <td>-6.474730e+01</td>\n",
              "      <td>2.189820e+01</td>\n",
              "      <td>5</td>\n",
              "    </tr>\n",
              "    <tr>\n",
              "      <th>5</th>\n",
              "      <td>-2.905850e+01</td>\n",
              "      <td>-4.321670e+01</td>\n",
              "      <td>6</td>\n",
              "    </tr>\n",
              "    <tr>\n",
              "      <th>6</th>\n",
              "      <td>-7.207850e+01</td>\n",
              "      <td>1.815810e-01</td>\n",
              "      <td>7</td>\n",
              "    </tr>\n",
              "    <tr>\n",
              "      <th>7</th>\n",
              "      <td>-3.603660e+01</td>\n",
              "      <td>-2.161350e+01</td>\n",
              "      <td>8</td>\n",
              "    </tr>\n",
              "    <tr>\n",
              "      <th>8</th>\n",
              "      <td>-5.048080e+01</td>\n",
              "      <td>7.374470e+00</td>\n",
              "      <td>9</td>\n",
              "    </tr>\n",
              "    <tr>\n",
              "      <th>9</th>\n",
              "      <td>-5.058590e+01</td>\n",
              "      <td>-2.158820e+01</td>\n",
              "      <td>10</td>\n",
              "    </tr>\n",
              "    <tr>\n",
              "      <th>10</th>\n",
              "      <td>-1.358190e-01</td>\n",
              "      <td>-2.872930e+01</td>\n",
              "      <td>11</td>\n",
              "    </tr>\n",
              "    <tr>\n",
              "      <th>11</th>\n",
              "      <td>-6.508660e+01</td>\n",
              "      <td>-3.606250e+01</td>\n",
              "      <td>12</td>\n",
              "    </tr>\n",
              "    <tr>\n",
              "      <th>12</th>\n",
              "      <td>-2.149830e+01</td>\n",
              "      <td>7.319420e+00</td>\n",
              "      <td>13</td>\n",
              "    </tr>\n",
              "    <tr>\n",
              "      <th>13</th>\n",
              "      <td>-5.756870e+01</td>\n",
              "      <td>-4.325060e+01</td>\n",
              "      <td>14</td>\n",
              "    </tr>\n",
              "    <tr>\n",
              "      <th>14</th>\n",
              "      <td>-4.307000e+01</td>\n",
              "      <td>1.455480e+01</td>\n",
              "      <td>15</td>\n",
              "    </tr>\n",
              "  </tbody>\n",
              "</table>\n",
              "</div>"
            ],
            "text/plain": [
              "               x             y  City\n",
              "0   5.500000e-08  9.860000e-09     1\n",
              "1  -2.887330e+01 -7.980000e-08     2\n",
              "2  -7.929160e+01 -2.140330e+01     3\n",
              "3  -1.465770e+01 -4.338960e+01     4\n",
              "4  -6.474730e+01  2.189820e+01     5\n",
              "5  -2.905850e+01 -4.321670e+01     6\n",
              "6  -7.207850e+01  1.815810e-01     7\n",
              "7  -3.603660e+01 -2.161350e+01     8\n",
              "8  -5.048080e+01  7.374470e+00     9\n",
              "9  -5.058590e+01 -2.158820e+01    10\n",
              "10 -1.358190e-01 -2.872930e+01    11\n",
              "11 -6.508660e+01 -3.606250e+01    12\n",
              "12 -2.149830e+01  7.319420e+00    13\n",
              "13 -5.756870e+01 -4.325060e+01    14\n",
              "14 -4.307000e+01  1.455480e+01    15"
            ]
          },
          "execution_count": 49,
          "metadata": {},
          "output_type": "execute_result"
        }
      ],
      "source": [
        "data_df = pd.read_csv('15-Points.csv')\n",
        "data_df"
      ]
    },
    {
      "cell_type": "code",
      "execution_count": 50,
      "metadata": {
        "id": "V4oDnpQnSj-h"
      },
      "outputs": [],
      "source": [
        "class City:\n",
        "  def __init__(self,city,x,y):\n",
        "    self.city = city\n",
        "    self.x = x\n",
        "    self.y = y\n",
        "  def __repr__(self) -> str:\n",
        "      return f'City(id:{self.city}, x:{self.x}, y:{self.y})'"
      ]
    },
    {
      "cell_type": "code",
      "execution_count": 51,
      "metadata": {
        "id": "kd0wcVXOTVcx"
      },
      "outputs": [],
      "source": [
        "def calculate_distance(point1,point2):\n",
        "    return np.sqrt((point1.x-point2.x)**2+(point1.y-point2.y)**2)"
      ]
    },
    {
      "cell_type": "code",
      "execution_count": 52,
      "metadata": {
        "id": "lriribZlPeSk"
      },
      "outputs": [],
      "source": [
        "def generate_distance_matrix(list_of_cities):\n",
        "    distance_matrix = np.zeros((len(list_of_cities),len(list_of_cities)))\n",
        "    for i in range(len(list_of_cities)):\n",
        "        for j in range(i,len(list_of_cities)):\n",
        "            dist = calculate_distance(list_of_cities[i],list_of_cities[j])\n",
        "            distance_matrix[i][j] = distance_matrix[j][i] = dist\n",
        "\n",
        "        distance_matrix[i][i] = np.inf\n",
        "    print(distance_matrix[0])\n",
        "    print(distance_matrix[0])\n",
        "    distance_matrix_dict = dict(zip([i.city for i in list_of_cities], distance_matrix.tolist()))\n",
        "\n",
        "    return distance_matrix_dict"
      ]
    },
    {
      "cell_type": "code",
      "execution_count": 53,
      "metadata": {
        "id": "C9LNMwgtTLOV"
      },
      "outputs": [],
      "source": [
        "def define_starting_point(list_of_cities):\n",
        "    return random.choice(list_of_cities)"
      ]
    },
    {
      "cell_type": "code",
      "execution_count": 54,
      "metadata": {
        "id": "uBVRJSgbVoOT"
      },
      "outputs": [],
      "source": [
        "def choose_nearest_point(distance_matrix_dict,city):\n",
        "    return np.argmin(distance_matrix_dict[city])"
      ]
    },
    {
      "cell_type": "code",
      "execution_count": 55,
      "metadata": {
        "id": "FzGn93O3TMC3"
      },
      "outputs": [],
      "source": [
        "def NN_algorithm(data_df):\n",
        "    list_of_cities = [City(int(row[1][2]),row[1][0],row[1][1]) for row in data_df.iterrows()]\n",
        "    distance_matrix_dict = generate_distance_matrix(list_of_cities)\n",
        "    # starting_point = define_starting_point(list_of_cities)\n",
        "    starting_point = list_of_cities[0]\n",
        "    for key in distance_matrix_dict.keys():\n",
        "            distance_matrix_dict[key][0] = np.inf\n",
        "\n",
        "    visited = [starting_point.city]\n",
        "\n",
        "    all_cost = 0\n",
        "    next_point = starting_point\n",
        "    while len(visited) != len(list_of_cities):\n",
        "        temp = next_point\n",
        "        indx = choose_nearest_point(distance_matrix_dict,city=temp.city)\n",
        "        \n",
        "        for key in distance_matrix_dict.keys():\n",
        "            distance_matrix_dict[key][indx] = np.inf\n",
        "\n",
        "        next_point = list_of_cities[indx]\n",
        "        visited.append(next_point.city)\n",
        "        all_cost += calculate_distance(temp,next_point)\n",
        "    all_cost += calculate_distance(next_point,starting_point)\n",
        "    visited.append(1)\n",
        "    return all_cost, visited"
      ]
    },
    {
      "cell_type": "code",
      "execution_count": 56,
      "metadata": {
        "colab": {
          "base_uri": "https://localhost:8080/"
        },
        "id": "lRIlxM7sdgqm",
        "outputId": "0e4ca5f7-551b-4379-d8cb-aeaa2a72c32d"
      },
      "outputs": [
        {
          "name": "stdout",
          "output_type": "stream",
          "text": [
            "[        inf 28.87330006 82.1295263  45.79853229 68.35015748 52.07763037\n",
            " 72.07872878 42.02118426 51.01660496 54.99985149 28.72962105 74.40947126\n",
            " 22.71014783 72.00534444 45.46281016]\n",
            "[        inf 28.87330006 82.1295263  45.79853229 68.35015748 52.07763037\n",
            " 72.07872878 42.02118426 51.01660496 54.99985149 28.72962105 74.40947126\n",
            " 22.71014783 72.00534444 45.46281016]\n"
          ]
        },
        {
          "data": {
            "text/plain": [
              "(284.3810904080332, [1, 13, 2, 15, 9, 5, 7, 3, 12, 14, 10, 8, 6, 4, 11, 1])"
            ]
          },
          "execution_count": 56,
          "metadata": {},
          "output_type": "execute_result"
        }
      ],
      "source": [
        "h,z = NN_algorithm(data_df)\n",
        "h, z"
      ]
    },
    {
      "cell_type": "code",
      "execution_count": null,
      "metadata": {
        "id": "Fpz-V3tSqxoE"
      },
      "outputs": [],
      "source": []
    }
  ],
  "metadata": {
    "colab": {
      "collapsed_sections": [
        "bZHs7DeZrcdT"
      ],
      "provenance": []
    },
    "kernelspec": {
      "display_name": "Python 3",
      "name": "python3"
    },
    "language_info": {
      "codemirror_mode": {
        "name": "ipython",
        "version": 3
      },
      "file_extension": ".py",
      "mimetype": "text/x-python",
      "name": "python",
      "nbconvert_exporter": "python",
      "pygments_lexer": "ipython3",
      "version": "3.9.12"
    }
  },
  "nbformat": 4,
  "nbformat_minor": 0
}
