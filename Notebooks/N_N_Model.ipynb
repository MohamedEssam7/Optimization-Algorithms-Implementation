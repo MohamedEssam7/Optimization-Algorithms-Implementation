{
  "nbformat": 4,
  "nbformat_minor": 0,
  "metadata": {
    "colab": {
      "provenance": [],
      "collapsed_sections": [
        "bZHs7DeZrcdT"
      ]
    },
    "kernelspec": {
      "name": "python3",
      "display_name": "Python 3"
    },
    "language_info": {
      "name": "python"
    }
  },
  "cells": [
    {
      "cell_type": "markdown",
      "source": [
        "# NN Heuristic Algorithm"
      ],
      "metadata": {
        "id": "bZHs7DeZrcdT"
      }
    },
    {
      "cell_type": "code",
      "source": [
        "import numpy as np\n",
        "import pandas as pd\n",
        "import random"
      ],
      "metadata": {
        "id": "KqZWauS9TdRC"
      },
      "execution_count": null,
      "outputs": []
    },
    {
      "cell_type": "code",
      "source": [
        "data_df = pd.read_csv('/content/15-Points.csv')\n",
        "data_df"
      ],
      "metadata": {
        "colab": {
          "base_uri": "https://localhost:8080/",
          "height": 519
        },
        "id": "Z9GBneLkVA8D",
        "outputId": "67ec2114-061e-4e94-d583-88bc1b06bfbf"
      },
      "execution_count": null,
      "outputs": [
        {
          "output_type": "execute_result",
          "data": {
            "text/plain": [
              "               x             y  City\n",
              "0   5.500000e-08  9.860000e-09     1\n",
              "1  -2.887330e+01 -7.980000e-08     2\n",
              "2  -7.929160e+01 -2.140330e+01     3\n",
              "3  -1.465770e+01 -4.338960e+01     4\n",
              "4  -6.474730e+01  2.189820e+01     5\n",
              "5  -2.905850e+01 -4.321670e+01     6\n",
              "6  -7.207850e+01  1.815810e-01     7\n",
              "7  -3.603660e+01 -2.161350e+01     8\n",
              "8  -5.048080e+01  7.374470e+00     9\n",
              "9  -5.058590e+01 -2.158820e+01    10\n",
              "10 -1.358190e-01 -2.872930e+01    11\n",
              "11 -6.508660e+01 -3.606250e+01    12\n",
              "12 -2.149830e+01  7.319420e+00    13\n",
              "13 -5.756870e+01 -4.325060e+01    14\n",
              "14 -4.307000e+01  1.455480e+01    15"
            ],
            "text/html": [
              "\n",
              "  <div id=\"df-70ec7f89-d4d3-43a2-91fe-3ed879ff4752\">\n",
              "    <div class=\"colab-df-container\">\n",
              "      <div>\n",
              "<style scoped>\n",
              "    .dataframe tbody tr th:only-of-type {\n",
              "        vertical-align: middle;\n",
              "    }\n",
              "\n",
              "    .dataframe tbody tr th {\n",
              "        vertical-align: top;\n",
              "    }\n",
              "\n",
              "    .dataframe thead th {\n",
              "        text-align: right;\n",
              "    }\n",
              "</style>\n",
              "<table border=\"1\" class=\"dataframe\">\n",
              "  <thead>\n",
              "    <tr style=\"text-align: right;\">\n",
              "      <th></th>\n",
              "      <th>x</th>\n",
              "      <th>y</th>\n",
              "      <th>City</th>\n",
              "    </tr>\n",
              "  </thead>\n",
              "  <tbody>\n",
              "    <tr>\n",
              "      <th>0</th>\n",
              "      <td>5.500000e-08</td>\n",
              "      <td>9.860000e-09</td>\n",
              "      <td>1</td>\n",
              "    </tr>\n",
              "    <tr>\n",
              "      <th>1</th>\n",
              "      <td>-2.887330e+01</td>\n",
              "      <td>-7.980000e-08</td>\n",
              "      <td>2</td>\n",
              "    </tr>\n",
              "    <tr>\n",
              "      <th>2</th>\n",
              "      <td>-7.929160e+01</td>\n",
              "      <td>-2.140330e+01</td>\n",
              "      <td>3</td>\n",
              "    </tr>\n",
              "    <tr>\n",
              "      <th>3</th>\n",
              "      <td>-1.465770e+01</td>\n",
              "      <td>-4.338960e+01</td>\n",
              "      <td>4</td>\n",
              "    </tr>\n",
              "    <tr>\n",
              "      <th>4</th>\n",
              "      <td>-6.474730e+01</td>\n",
              "      <td>2.189820e+01</td>\n",
              "      <td>5</td>\n",
              "    </tr>\n",
              "    <tr>\n",
              "      <th>5</th>\n",
              "      <td>-2.905850e+01</td>\n",
              "      <td>-4.321670e+01</td>\n",
              "      <td>6</td>\n",
              "    </tr>\n",
              "    <tr>\n",
              "      <th>6</th>\n",
              "      <td>-7.207850e+01</td>\n",
              "      <td>1.815810e-01</td>\n",
              "      <td>7</td>\n",
              "    </tr>\n",
              "    <tr>\n",
              "      <th>7</th>\n",
              "      <td>-3.603660e+01</td>\n",
              "      <td>-2.161350e+01</td>\n",
              "      <td>8</td>\n",
              "    </tr>\n",
              "    <tr>\n",
              "      <th>8</th>\n",
              "      <td>-5.048080e+01</td>\n",
              "      <td>7.374470e+00</td>\n",
              "      <td>9</td>\n",
              "    </tr>\n",
              "    <tr>\n",
              "      <th>9</th>\n",
              "      <td>-5.058590e+01</td>\n",
              "      <td>-2.158820e+01</td>\n",
              "      <td>10</td>\n",
              "    </tr>\n",
              "    <tr>\n",
              "      <th>10</th>\n",
              "      <td>-1.358190e-01</td>\n",
              "      <td>-2.872930e+01</td>\n",
              "      <td>11</td>\n",
              "    </tr>\n",
              "    <tr>\n",
              "      <th>11</th>\n",
              "      <td>-6.508660e+01</td>\n",
              "      <td>-3.606250e+01</td>\n",
              "      <td>12</td>\n",
              "    </tr>\n",
              "    <tr>\n",
              "      <th>12</th>\n",
              "      <td>-2.149830e+01</td>\n",
              "      <td>7.319420e+00</td>\n",
              "      <td>13</td>\n",
              "    </tr>\n",
              "    <tr>\n",
              "      <th>13</th>\n",
              "      <td>-5.756870e+01</td>\n",
              "      <td>-4.325060e+01</td>\n",
              "      <td>14</td>\n",
              "    </tr>\n",
              "    <tr>\n",
              "      <th>14</th>\n",
              "      <td>-4.307000e+01</td>\n",
              "      <td>1.455480e+01</td>\n",
              "      <td>15</td>\n",
              "    </tr>\n",
              "  </tbody>\n",
              "</table>\n",
              "</div>\n",
              "      <button class=\"colab-df-convert\" onclick=\"convertToInteractive('df-70ec7f89-d4d3-43a2-91fe-3ed879ff4752')\"\n",
              "              title=\"Convert this dataframe to an interactive table.\"\n",
              "              style=\"display:none;\">\n",
              "        \n",
              "  <svg xmlns=\"http://www.w3.org/2000/svg\" height=\"24px\"viewBox=\"0 0 24 24\"\n",
              "       width=\"24px\">\n",
              "    <path d=\"M0 0h24v24H0V0z\" fill=\"none\"/>\n",
              "    <path d=\"M18.56 5.44l.94 2.06.94-2.06 2.06-.94-2.06-.94-.94-2.06-.94 2.06-2.06.94zm-11 1L8.5 8.5l.94-2.06 2.06-.94-2.06-.94L8.5 2.5l-.94 2.06-2.06.94zm10 10l.94 2.06.94-2.06 2.06-.94-2.06-.94-.94-2.06-.94 2.06-2.06.94z\"/><path d=\"M17.41 7.96l-1.37-1.37c-.4-.4-.92-.59-1.43-.59-.52 0-1.04.2-1.43.59L10.3 9.45l-7.72 7.72c-.78.78-.78 2.05 0 2.83L4 21.41c.39.39.9.59 1.41.59.51 0 1.02-.2 1.41-.59l7.78-7.78 2.81-2.81c.8-.78.8-2.07 0-2.86zM5.41 20L4 18.59l7.72-7.72 1.47 1.35L5.41 20z\"/>\n",
              "  </svg>\n",
              "      </button>\n",
              "      \n",
              "  <style>\n",
              "    .colab-df-container {\n",
              "      display:flex;\n",
              "      flex-wrap:wrap;\n",
              "      gap: 12px;\n",
              "    }\n",
              "\n",
              "    .colab-df-convert {\n",
              "      background-color: #E8F0FE;\n",
              "      border: none;\n",
              "      border-radius: 50%;\n",
              "      cursor: pointer;\n",
              "      display: none;\n",
              "      fill: #1967D2;\n",
              "      height: 32px;\n",
              "      padding: 0 0 0 0;\n",
              "      width: 32px;\n",
              "    }\n",
              "\n",
              "    .colab-df-convert:hover {\n",
              "      background-color: #E2EBFA;\n",
              "      box-shadow: 0px 1px 2px rgba(60, 64, 67, 0.3), 0px 1px 3px 1px rgba(60, 64, 67, 0.15);\n",
              "      fill: #174EA6;\n",
              "    }\n",
              "\n",
              "    [theme=dark] .colab-df-convert {\n",
              "      background-color: #3B4455;\n",
              "      fill: #D2E3FC;\n",
              "    }\n",
              "\n",
              "    [theme=dark] .colab-df-convert:hover {\n",
              "      background-color: #434B5C;\n",
              "      box-shadow: 0px 1px 3px 1px rgba(0, 0, 0, 0.15);\n",
              "      filter: drop-shadow(0px 1px 2px rgba(0, 0, 0, 0.3));\n",
              "      fill: #FFFFFF;\n",
              "    }\n",
              "  </style>\n",
              "\n",
              "      <script>\n",
              "        const buttonEl =\n",
              "          document.querySelector('#df-70ec7f89-d4d3-43a2-91fe-3ed879ff4752 button.colab-df-convert');\n",
              "        buttonEl.style.display =\n",
              "          google.colab.kernel.accessAllowed ? 'block' : 'none';\n",
              "\n",
              "        async function convertToInteractive(key) {\n",
              "          const element = document.querySelector('#df-70ec7f89-d4d3-43a2-91fe-3ed879ff4752');\n",
              "          const dataTable =\n",
              "            await google.colab.kernel.invokeFunction('convertToInteractive',\n",
              "                                                     [key], {});\n",
              "          if (!dataTable) return;\n",
              "\n",
              "          const docLinkHtml = 'Like what you see? Visit the ' +\n",
              "            '<a target=\"_blank\" href=https://colab.research.google.com/notebooks/data_table.ipynb>data table notebook</a>'\n",
              "            + ' to learn more about interactive tables.';\n",
              "          element.innerHTML = '';\n",
              "          dataTable['output_type'] = 'display_data';\n",
              "          await google.colab.output.renderOutput(dataTable, element);\n",
              "          const docLink = document.createElement('div');\n",
              "          docLink.innerHTML = docLinkHtml;\n",
              "          element.appendChild(docLink);\n",
              "        }\n",
              "      </script>\n",
              "    </div>\n",
              "  </div>\n",
              "  "
            ]
          },
          "metadata": {},
          "execution_count": 308
        }
      ]
    },
    {
      "cell_type": "code",
      "source": [
        "class City:\n",
        "  def __init__(self,city,x,y):\n",
        "    self.city = city\n",
        "    self.x = x\n",
        "    self.y = y\n",
        "  def __repr__(self) -> str:\n",
        "      return f'City(id:{self.city}, x:{self.x}, y:{self.y})'"
      ],
      "metadata": {
        "id": "V4oDnpQnSj-h"
      },
      "execution_count": null,
      "outputs": []
    },
    {
      "cell_type": "code",
      "source": [
        "def calculate_distance(point1,point2):\n",
        "    return np.sqrt((point1.x-point2.x)**2+(point1.y-point2.y)**2)"
      ],
      "metadata": {
        "id": "kd0wcVXOTVcx"
      },
      "execution_count": null,
      "outputs": []
    },
    {
      "cell_type": "code",
      "source": [
        "calculate_distance(City(1,2,3),City(1,5,4))"
      ],
      "metadata": {
        "colab": {
          "base_uri": "https://localhost:8080/"
        },
        "id": "mY_Pf9z1jQR1",
        "outputId": "a87c38c7-a4fd-4a32-eb3d-b491bcf72dbd"
      },
      "execution_count": null,
      "outputs": [
        {
          "output_type": "execute_result",
          "data": {
            "text/plain": [
              "3.1622776601683795"
            ]
          },
          "metadata": {},
          "execution_count": 301
        }
      ]
    },
    {
      "cell_type": "code",
      "execution_count": null,
      "metadata": {
        "id": "lriribZlPeSk"
      },
      "outputs": [],
      "source": [
        "def generate_distance_matrix(list_of_cities):\n",
        "    distance_matrix = np.zeros((len(list_of_cities),len(list_of_cities)))\n",
        "    for i in range(len(list_of_cities)):\n",
        "        for j in range(i,len(list_of_cities)):\n",
        "            dist = calculate_distance(list_of_cities[i],list_of_cities[j])\n",
        "            distance_matrix[i][j] = distance_matrix[j][i] = dist\n",
        "\n",
        "        distance_matrix[i][i] = np.inf\n",
        "    print(distance_matrix[0])\n",
        "    print(distance_matrix[0])\n",
        "    distance_matrix_dict = dict(zip([i.city for i in list_of_cities], distance_matrix.tolist()))\n",
        "\n",
        "    return distance_matrix_dict"
      ]
    },
    {
      "cell_type": "code",
      "source": [
        "def define_starting_point(list_of_cities):\n",
        "    return random.choice(list_of_cities)"
      ],
      "metadata": {
        "id": "C9LNMwgtTLOV"
      },
      "execution_count": null,
      "outputs": []
    },
    {
      "cell_type": "code",
      "source": [
        "def choose_nearest_point(distance_matrix_dict,city):\n",
        "    return np.argmin(distance_matrix_dict[city])"
      ],
      "metadata": {
        "id": "uBVRJSgbVoOT"
      },
      "execution_count": null,
      "outputs": []
    },
    {
      "cell_type": "code",
      "source": [
        "def NN_algorithm(data_df):\n",
        "    list_of_cities = [City(int(row[1][2]),row[1][0],row[1][1]) for row in data_df.iterrows()]\n",
        "    distance_matrix_dict = generate_distance_matrix(list_of_cities)\n",
        "    # starting_point = define_starting_point(list_of_cities)\n",
        "    starting_point = list_of_cities[0]\n",
        "    for key in distance_matrix_dict.keys():\n",
        "            distance_matrix_dict[key][0] = np.inf\n",
        "\n",
        "    visited = [starting_point.city]\n",
        "\n",
        "    all_cost = 0\n",
        "    next_point = starting_point\n",
        "    while len(visited) != len(list_of_cities):\n",
        "        temp = next_point\n",
        "        indx = choose_nearest_point(distance_matrix_dict,city=temp.city)\n",
        "        \n",
        "        for key in distance_matrix_dict.keys():\n",
        "            distance_matrix_dict[key][indx] = np.inf\n",
        "\n",
        "        next_point = list_of_cities[indx]\n",
        "        visited.append(next_point.city)\n",
        "        all_cost += calculate_distance(temp,next_point)\n",
        "    all_cost += calculate_distance(next_point,starting_point)\n",
        "    visited.append(1)\n",
        "    return all_cost, visited"
      ],
      "metadata": {
        "id": "FzGn93O3TMC3"
      },
      "execution_count": null,
      "outputs": []
    },
    {
      "cell_type": "code",
      "source": [
        "h,z = NN_algorithm(data_df)\n",
        "h, z"
      ],
      "metadata": {
        "colab": {
          "base_uri": "https://localhost:8080/"
        },
        "id": "lRIlxM7sdgqm",
        "outputId": "0e4ca5f7-551b-4379-d8cb-aeaa2a72c32d"
      },
      "execution_count": null,
      "outputs": [
        {
          "output_type": "stream",
          "name": "stdout",
          "text": [
            "[        inf 28.87330006 82.1295263  45.79853229 68.35015748 52.07763037\n",
            " 72.07872878 42.02118426 51.01660496 54.99985149 28.72962105 74.40947126\n",
            " 22.71014783 72.00534444 45.46281016]\n",
            "[        inf 28.87330006 82.1295263  45.79853229 68.35015748 52.07763037\n",
            " 72.07872878 42.02118426 51.01660496 54.99985149 28.72962105 74.40947126\n",
            " 22.71014783 72.00534444 45.46281016]\n"
          ]
        },
        {
          "output_type": "execute_result",
          "data": {
            "text/plain": [
              "(284.3810904080332, [1, 13, 2, 15, 9, 5, 7, 3, 12, 14, 10, 8, 6, 4, 11, 1])"
            ]
          },
          "metadata": {},
          "execution_count": 375
        }
      ]
    },
    {
      "cell_type": "code",
      "source": [
        "{'j':1}.keys()"
      ],
      "metadata": {
        "colab": {
          "base_uri": "https://localhost:8080/"
        },
        "id": "1731w0pfaR6V",
        "outputId": "2d165364-7d80-42f5-8335-5d713dc03572"
      },
      "execution_count": null,
      "outputs": [
        {
          "output_type": "execute_result",
          "data": {
            "text/plain": [
              "dict_keys(['j'])"
            ]
          },
          "metadata": {},
          "execution_count": 158
        }
      ]
    },
    {
      "cell_type": "code",
      "source": [
        "def generate_distance_matrix(list_of_cities):\n",
        "    distance_matrix = [[0]*len(list_of_cities)]*len(list_of_cities)\n",
        "    for i in range(len(list_of_cities)):\n",
        "        for j in range(len(list_of_cities)):\n",
        "            dist = calculate_distance(list_of_cities[i],list_of_cities[j])\n",
        "            distance_matrix[i][j] = dist  \n",
        "        break\n",
        "    distance_matrix_dict = dict(zip([i.city for i in list_of_cities], distance_matrix))\n",
        "\n",
        "    return distance_matrix_dict"
      ],
      "metadata": {
        "id": "6a7nGY8pnNYn"
      },
      "execution_count": null,
      "outputs": []
    },
    {
      "cell_type": "code",
      "source": [
        "list_of_cities = [City(int(row[1][0]),row[1][1],row[1][2]) for row in data_df.iterrows()]"
      ],
      "metadata": {
        "id": "lhcnNgjkqprn"
      },
      "execution_count": null,
      "outputs": []
    },
    {
      "cell_type": "code",
      "source": [
        "np.array(generate_distance_matrix(list_of_cities)[1])"
      ],
      "metadata": {
        "colab": {
          "base_uri": "https://localhost:8080/"
        },
        "id": "Rgh1wPaYquZX",
        "outputId": "bdc0e496-c44f-45da-bde8-6e385a0b7b0d"
      },
      "execution_count": null,
      "outputs": [
        {
          "output_type": "execute_result",
          "data": {
            "text/plain": [
              "array([   0.        ,  654.03778434,  348.86529672,  716.73877533,\n",
              "       1203.94503538,  659.28245658,  227.28028205, 1356.16531098,\n",
              "        362.56149399,  231.30832452,   35.24474456,  124.83952004,\n",
              "       1168.58206139, 1368.79197149,  702.10664253,  127.61142399,\n",
              "        453.50204985,  213.80366494,  311.00357584, 1852.75333809,\n",
              "       1298.35809074,  300.33903616,  917.20559707,  913.13094308,\n",
              "        662.29968381,  792.91222569,  176.21544764,  861.24652983,\n",
              "       2411.32868073,  343.16114858,  729.56906787,  420.53933026,\n",
              "        751.61323157,  526.25563103, 1077.23395846,  496.94651455,\n",
              "        847.96430311,  463.72361332,  416.84991112, 2040.56098911,\n",
              "       1139.4498184 ,  100.33564137, 2528.98866863,  533.03641617,\n",
              "        542.6262939 , 1826.61281671, 2580.07102881, 2480.71815062,\n",
              "       2183.35563218,  479.30316871,  767.30621852, 1096.29848328,\n",
              "        122.25506836,  859.39197803,  955.78499987,  349.7628055 ,\n",
              "        994.0633316 ])"
            ]
          },
          "metadata": {},
          "execution_count": 245
        }
      ]
    },
    {
      "cell_type": "code",
      "source": [],
      "metadata": {
        "id": "Fpz-V3tSqxoE"
      },
      "execution_count": null,
      "outputs": []
    },
    {
      "cell_type": "code",
      "source": [],
      "metadata": {
        "id": "PEYt9GyNWdiG"
      },
      "execution_count": null,
      "outputs": []
    }
  ]
}