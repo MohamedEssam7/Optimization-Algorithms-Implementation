{
  "cells": [
    {
      "cell_type": "markdown",
      "metadata": {
        "id": "T0MqRqhfrmjB"
      },
      "source": [
        "# Genetic Algorithm"
      ]
    },
    {
      "cell_type": "code",
      "execution_count": 17,
      "metadata": {
        "id": "emA23cpNsVyj"
      },
      "outputs": [],
      "source": [
        "import numpy as np\n",
        "from itertools import permutations,islice\n",
        "import random\n",
        "import pandas as pd\n",
        "import copy"
      ]
    },
    {
      "cell_type": "code",
      "execution_count": 18,
      "metadata": {
        "id": "9lVDooYG00AB"
      },
      "outputs": [],
      "source": [
        "class City:\n",
        "  def __init__(self,city,x,y):\n",
        "    self.city = city\n",
        "    self.x = x\n",
        "    self.y = y\n",
        "  def __repr__(self) -> str:\n",
        "      return f'(id:{self.city})'\n",
        "\n",
        "  def __eq__(self, other):\n",
        "      return (self.city == other.city)"
      ]
    },
    {
      "cell_type": "code",
      "execution_count": 19,
      "metadata": {
        "id": "D3ujjH0hQt_I"
      },
      "outputs": [],
      "source": [
        "class Chromosome:\n",
        "  def __init__(self,c_list,fitness=0, cost=0):\n",
        "    self.c_list = c_list\n",
        "    self.fitness = fitness\n",
        "    self.cost = cost\n",
        "  def __repr__(self) -> str:\n",
        "      return f'({self.c_list}, {self.cost})'"
      ]
    },
    {
      "cell_type": "code",
      "execution_count": 20,
      "metadata": {
        "id": "9q7bfF4j1pkW"
      },
      "outputs": [],
      "source": [
        "data_df = pd.read_csv('15-Points.csv')"
      ]
    },
    {
      "cell_type": "code",
      "execution_count": 21,
      "metadata": {
        "id": "esjilgv4u_GV"
      },
      "outputs": [],
      "source": [
        "def calculate_distance(point1,point2):\n",
        "    return np.sqrt((point1.x-point2.x)**2+(point1.y-point2.y)**2)"
      ]
    },
    {
      "cell_type": "code",
      "execution_count": 22,
      "metadata": {
        "id": "Z-D3QXSFT1Ef"
      },
      "outputs": [],
      "source": [
        "def generate_distance_matrix(chromosome):\n",
        "    distance_matrix = np.zeros((len(chromosome.c_list),len(chromosome.c_list)))\n",
        "    for i in range(len(chromosome.c_list)):\n",
        "        for j in range(i,len(chromosome.c_list)):\n",
        "            dist = calculate_distance(chromosome.c_list[i],chromosome.c_list[j])\n",
        "            distance_matrix[i][j] = distance_matrix[j][i] = dist\n",
        "\n",
        "        distance_matrix[i][i] = np.inf\n",
        "    distance_matrix_dict = dict(zip([i.city for i in chromosome.c_list], distance_matrix.tolist()))\n",
        "\n",
        "    return copy.deepcopy(distance_matrix_dict)\n",
        "# generate_distance_matrix(generate_intial_population(3,data_df)[0])"
      ]
    },
    {
      "cell_type": "code",
      "execution_count": 23,
      "metadata": {
        "id": "ibuPRmLYsgJl"
      },
      "outputs": [],
      "source": [
        "def calculate_cost(c_list,distance_matrix_dict):\n",
        "  cost=0\n",
        "  for i in range(1,len(c_list)):\n",
        "      cost += distance_matrix_dict[c_list[i-1].city][c_list[i].city-1]\n",
        "  cost += distance_matrix_dict[c_list[0].city][c_list[-1].city-1]\n",
        "  return cost"
      ]
    },
    {
      "cell_type": "code",
      "execution_count": 24,
      "metadata": {},
      "outputs": [],
      "source": [
        "def calculate_fitness(cost):\n",
        "    return 1/cost"
      ]
    },
    {
      "cell_type": "code",
      "execution_count": 25,
      "metadata": {
        "id": "LgUmvRIErpgU"
      },
      "outputs": [],
      "source": [
        "def generate_intial_population(popuation_size,intial_chromosome,distance_matrix_dict):\n",
        "  pop = []\n",
        "  for i in range(popuation_size):\n",
        "      c_list = np.random.permutation(intial_chromosome.c_list)\n",
        "      cost = calculate_cost(c_list,distance_matrix_dict)\n",
        "      pop.append(Chromosome(c_list,fitness=calculate_fitness(cost),cost=cost))\n",
        "\n",
        "  return copy.deepcopy(np.array(pop))\n",
        "# generate_intial_population(3,data_df)[0].c_list[0].city"
      ]
    },
    {
      "cell_type": "code",
      "execution_count": 26,
      "metadata": {
        "id": "VBKfMgP3tH4T"
      },
      "outputs": [],
      "source": [
        "def elitism(old_pop,elit_size):\n",
        "  \n",
        "    sorted_pop = copy.deepcopy(np.array(sorted(old_pop, key=lambda chrom: chrom.cost)))\n",
        "\n",
        "    return sorted_pop[:elit_size]"
      ]
    },
    {
      "cell_type": "code",
      "execution_count": 27,
      "metadata": {
        "id": "KVI6um2dicwI"
      },
      "outputs": [],
      "source": [
        "def selection(pop,k):\n",
        "  parent_pool = np.random.choice(pop,size=k,replace=False)\n",
        "  return copy.deepcopy(sorted(parent_pool, key=lambda chrom: chrom.fitness, reverse=True)[:2])"
      ]
    },
    {
      "cell_type": "code",
      "execution_count": 28,
      "metadata": {
        "id": "zj3j3Fgjli17"
      },
      "outputs": [],
      "source": [
        "def crossover_process(parent1, parent2, slice_point1, slice_point2):\n",
        "    child1 = copy.deepcopy(parent1)\n",
        "    child2 = copy.deepcopy(parent2)\n",
        "    \n",
        "    for i in range(slice_point1, slice_point2):\n",
        "        temp1 = child1.c_list[i]\n",
        "        \n",
        "        indx = np.where(child2.c_list==temp1)[0][0]\n",
        "        \n",
        "        child2.c_list[i], child2.c_list[indx] = copy.deepcopy(child2.c_list[indx]), copy.deepcopy(child2.c_list[i])\n",
        "\n",
        "    return copy.deepcopy(child2)"
      ]
    },
    {
      "cell_type": "code",
      "execution_count": 29,
      "metadata": {
        "id": "MYtkhEBY0XxP"
      },
      "outputs": [],
      "source": [
        "def crossover(pop,slice_point1,slice_point2,new_pop_size,distance_matrix_dict):\n",
        "    # number of k tournements\n",
        "    k=5\n",
        "    new_pop = []\n",
        "    for i in range(new_pop_size):\n",
        "        parent_1, parent_2 = selection(pop,k)\n",
        "        child_1 = crossover_process(parent_1, parent_2, slice_point1, slice_point2)\n",
        "\n",
        "        child_1.cost = calculate_cost(child_1.c_list,distance_matrix_dict)\n",
        "        child_1.fitness = calculate_fitness(child_1.cost)\n",
        "        \n",
        "        new_pop.append(child_1)\n",
        "    return copy.deepcopy(new_pop)"
      ]
    },
    {
      "cell_type": "code",
      "execution_count": 30,
      "metadata": {
        "id": "MjubB06D-hol"
      },
      "outputs": [],
      "source": [
        "def mutation(new_pop,mutation_rate,distance_matrix_dict):\n",
        "\n",
        "    for indx in np.random.choice(list(range(len(new_pop))),size=int(len(new_pop)*mutation_rate),replace=False):\n",
        "\n",
        "        i,j = np.random.choice(list(range(len(new_pop[indx].c_list))),size=2)\n",
        "        new_pop[indx].c_list[i], new_pop[indx].c_list[j] = new_pop[indx].c_list[j], new_pop[indx].c_list[i]\n",
        "\n",
        "        new_pop[indx].cost = calculate_cost(new_pop[indx].c_list,distance_matrix_dict)\n",
        "        #review\n",
        "        new_pop[indx].fitness = calculate_fitness(new_pop[indx].cost)\n",
        "\n",
        "    return copy.deepcopy(new_pop)"
      ]
    },
    {
      "cell_type": "code",
      "execution_count": 31,
      "metadata": {
        "id": "5DJ2lqP4-c6S"
      },
      "outputs": [],
      "source": [
        "def GA_process(data_df,popuation_size,elit_size,mutation_rate,iterations):\n",
        "    intial_chromosome = Chromosome(c_list=[City(int(row[1][2]),row[1][0],row[1][1]) for row in data_df.iterrows()]) \n",
        "    distance_matrix_dict = generate_distance_matrix(intial_chromosome)\n",
        "    pop = generate_intial_population(popuation_size,intial_chromosome,distance_matrix_dict)\n",
        "#review\n",
        "    slice_point1,slice_point2 = 4, 10\n",
        "\n",
        "    for i in range(iterations):\n",
        "\n",
        "        elitism_pop = elitism(pop,elit_size)\n",
        "\n",
        "        new_pop_size = popuation_size - elit_size\n",
        "        new_pop = crossover(pop,slice_point1,slice_point2,new_pop_size,distance_matrix_dict)\n",
        "\n",
        "        new_pop = mutation(copy.deepcopy(new_pop),mutation_rate,distance_matrix_dict)\n",
        "\n",
        "        pop = np.array(copy.deepcopy(elitism_pop.tolist()) + copy.deepcopy(new_pop))\n",
        "\n",
        "    return list(sorted(pop, key=lambda chrom: chrom.fitness, reverse=True))[0].cost"
      ]
    },
    {
      "cell_type": "code",
      "execution_count": 33,
      "metadata": {
        "id": "BeV-jwceLkJB"
      },
      "outputs": [
        {
          "data": {
            "text/plain": [
              "284.3810904080331"
            ]
          },
          "execution_count": 33,
          "metadata": {},
          "output_type": "execute_result"
        }
      ],
      "source": [
        "GA_process(data_df,popuation_size=200,elit_size=20,mutation_rate=0.7,iterations=40)"
      ]
    },
    {
      "cell_type": "code",
      "execution_count": null,
      "metadata": {},
      "outputs": [],
      "source": []
    }
  ],
  "metadata": {
    "colab": {
      "collapsed_sections": [
        "bZHs7DeZrcdT"
      ],
      "provenance": []
    },
    "kernelspec": {
      "display_name": "Python 3",
      "name": "python3"
    },
    "language_info": {
      "codemirror_mode": {
        "name": "ipython",
        "version": 3
      },
      "file_extension": ".py",
      "mimetype": "text/x-python",
      "name": "python",
      "nbconvert_exporter": "python",
      "pygments_lexer": "ipython3",
      "version": "3.9.12"
    }
  },
  "nbformat": 4,
  "nbformat_minor": 0
}
