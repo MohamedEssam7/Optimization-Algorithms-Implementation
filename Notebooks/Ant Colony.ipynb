{
  "cells": [
    {
      "attachments": {},
      "cell_type": "markdown",
      "metadata": {},
      "source": [
        "# Ant Colony"
      ]
    },
    {
      "cell_type": "code",
      "execution_count": 1,
      "metadata": {},
      "outputs": [],
      "source": [
        "import numpy as np\n",
        "from itertools import permutations,islice\n",
        "import random\n",
        "import pandas as pd\n",
        "import copy"
      ]
    },
    {
      "cell_type": "code",
      "execution_count": 2,
      "metadata": {},
      "outputs": [],
      "source": [
        "class City:\n",
        "  def __init__(self,city,x,y):\n",
        "    self.city = city\n",
        "    self.x = x\n",
        "    self.y = y\n",
        "  def __repr__(self) -> str:\n",
        "      return f'(id:{self.city})'\n",
        "\n",
        "  def __eq__(self, other):\n",
        "      return (self.city == other.city)"
      ]
    },
    {
      "cell_type": "code",
      "execution_count": 3,
      "metadata": {},
      "outputs": [],
      "source": [
        "class Chromosome:\n",
        "  def __init__(self,c_list,fitness=0, cost=0):\n",
        "    self.c_list = c_list\n",
        "    self.fitness = fitness\n",
        "    self.cost = cost\n",
        "  def __repr__(self) -> str:\n",
        "      return f'({self.c_list}, {self.cost})'"
      ]
    },
    {
      "cell_type": "code",
      "execution_count": 4,
      "metadata": {},
      "outputs": [],
      "source": [
        "data_df = pd.read_csv('15-Points.csv')"
      ]
    },
    {
      "cell_type": "code",
      "execution_count": 5,
      "metadata": {},
      "outputs": [],
      "source": [
        "def calculate_distance(point1,point2):\n",
        "    return np.sqrt((point1.x-point2.x)**2+(point1.y-point2.y)**2)"
      ]
    },
    {
      "cell_type": "code",
      "execution_count": 6,
      "metadata": {},
      "outputs": [],
      "source": [
        "def generate_distance_matrix(chromosome):\n",
        "    distance_matrix = np.zeros((len(chromosome.c_list),len(chromosome.c_list)))\n",
        "    for i in range(len(chromosome.c_list)):\n",
        "        for j in range(i,len(chromosome.c_list)):\n",
        "            dist = calculate_distance(chromosome.c_list[i],chromosome.c_list[j])\n",
        "            distance_matrix[i][j] = distance_matrix[j][i] = dist\n",
        "\n",
        "        distance_matrix[i][i] = np.inf\n",
        "    distance_matrix_dict = dict(zip([i.city for i in chromosome.c_list], distance_matrix.tolist()))\n",
        "\n",
        "    return copy.deepcopy(distance_matrix_dict)\n",
        "# generate_distance_matrix(generate_intial_population(3,data_df)[0])"
      ]
    },
    {
      "cell_type": "code",
      "execution_count": 7,
      "metadata": {},
      "outputs": [],
      "source": [
        "def calculate_cost(c_list,distance_matrix_dict):\n",
        "  cost=0\n",
        "  for i in range(1,len(c_list)):\n",
        "      cost += distance_matrix_dict[c_list[i-1].city][c_list[i].city-1]\n",
        "  cost += distance_matrix_dict[c_list[0].city][c_list[-1].city-1]\n",
        "  return cost"
      ]
    },
    {
      "cell_type": "code",
      "execution_count": 8,
      "metadata": {},
      "outputs": [],
      "source": [
        "def calculate_fitness(cost):\n",
        "    return 1/cost"
      ]
    },
    {
      "cell_type": "code",
      "execution_count": 9,
      "metadata": {},
      "outputs": [],
      "source": [
        "def calculate_phermone_matrix(old_matrix, pop, p):\n",
        "    new_matrix = copy.deepcopy(old_matrix) * (1-p)\n",
        "    for chromosome in pop:\n",
        "        fitness_val = chromosome.fitness\n",
        "        for i in range(1, len(chromosome.c_list)):\n",
        "            city1 = chromosome.c_list[i-1].city - 1\n",
        "            city2 = chromosome.c_list[i].city - 1\n",
        "\n",
        "            new_matrix[city1, city2] =+ fitness_val\n",
        "            new_matrix[city2, city1] =+ fitness_val\n",
        "            \n",
        "    return new_matrix"
      ]
    },
    {
      "cell_type": "code",
      "execution_count": 10,
      "metadata": {},
      "outputs": [],
      "source": [
        "def generate_intial_population(popuation_size,intial_chromosome,distance_matrix_dict):\n",
        "  pop = []\n",
        "  for i in range(popuation_size):\n",
        "      c_list = np.random.permutation(intial_chromosome.c_list)\n",
        "      cost = calculate_cost(c_list,distance_matrix_dict)\n",
        "      pop.append(Chromosome(c_list,fitness=calculate_fitness(cost),cost=cost))\n",
        "\n",
        "  return copy.deepcopy(np.array(pop))\n",
        "# generate_intial_population(3,data_df)[0].c_list[0].city"
      ]
    },
    {
      "cell_type": "code",
      "execution_count": 11,
      "metadata": {},
      "outputs": [],
      "source": [
        "def elitism(old_pop,elit_size):\n",
        "  \n",
        "    sorted_pop = copy.deepcopy(np.array(sorted(old_pop, key=lambda chrom: chrom.cost)))\n",
        "\n",
        "    return sorted_pop[:elit_size]"
      ]
    },
    {
      "cell_type": "code",
      "execution_count": 12,
      "metadata": {},
      "outputs": [],
      "source": [
        "def construction_phase(list_c, phermone_matrix, distance_matrix, alpha, beta, ants_num):\n",
        "    new_generation = []\n",
        "    for ant in range(ants_num):\n",
        "        current_city = np.random.choice(list_c)\n",
        "        path = [current_city]\n",
        "        unvisited_cities = copy.deepcopy(list_c)\n",
        "\n",
        "        for i in range(len(list_c)-1):\n",
        "            unvisited_cities.remove(current_city)\n",
        "            probabilities = []\n",
        "            for city in unvisited_cities:\n",
        "\n",
        "                probability = (((phermone_matrix[current_city.city-1,city.city-1])**alpha) * ((1/(distance_matrix[current_city.city][city.city-1]))**beta))\n",
        "                probabilities.append(probability)\n",
        "            \n",
        "            probabilities = np.array(probabilities) / np.sum(probabilities)\n",
        "\n",
        "            next_city = np.random.choice(unvisited_cities, p=probabilities)\n",
        "\n",
        "            path.append(next_city)\n",
        "\n",
        "            current_city = next_city\n",
        "\n",
        "        chromosome = Chromosome(path)\n",
        "        chromosome.cost = calculate_cost(chromosome.c_list, distance_matrix)\n",
        "        chromosome.fitness = calculate_fitness(chromosome.cost)\n",
        "\n",
        "        new_generation.append(chromosome)\n",
        "    return new_generation\n",
        "            "
      ]
    },
    {
      "cell_type": "code",
      "execution_count": 13,
      "metadata": {},
      "outputs": [],
      "source": [
        "def AntColony_process(data_df,popuation_size,elit_size,iterations, alpha, beta, p):\n",
        "    \n",
        "\n",
        "    intial_chromosome = Chromosome(c_list=[City(int(row[1][2]),row[1][0],row[1][1]) for row in data_df.iterrows()]) \n",
        "    distance_matrix = generate_distance_matrix(intial_chromosome)\n",
        "    pop = generate_intial_population(popuation_size,intial_chromosome,distance_matrix)\n",
        "    intial_phermone_matrix = np.zeros((15,15)) + 0.0000001\n",
        "    phermone_matrix = calculate_phermone_matrix(intial_phermone_matrix, pop, p)\n",
        "\n",
        "\n",
        "    for i in range(iterations):\n",
        "\n",
        "        elitism_pop = elitism(pop,elit_size)\n",
        "\n",
        "        new_pop_size = popuation_size - elit_size\n",
        "\n",
        "        new_pop = construction_phase(intial_chromosome.c_list, phermone_matrix, distance_matrix, alpha, beta, ants_num = new_pop_size)\n",
        "\n",
        "        pop = np.array(copy.deepcopy(elitism_pop.tolist()) + copy.deepcopy(new_pop))\n",
        "\n",
        "        phermone_matrix = calculate_phermone_matrix(phermone_matrix, pop, p)\n",
        "\n",
        "    return list(sorted(pop, key=lambda chrom: chrom.fitness, reverse=True))[0].cost"
      ]
    },
    {
      "cell_type": "code",
      "execution_count": 16,
      "metadata": {},
      "outputs": [
        {
          "data": {
            "text/plain": [
              "284.3810904080332"
            ]
          },
          "execution_count": 16,
          "metadata": {},
          "output_type": "execute_result"
        }
      ],
      "source": [
        "AntColony_process(data_df,popuation_size=200,elit_size=20,iterations=40, alpha=1, beta=2, p=0.7)"
      ]
    },
    {
      "cell_type": "code",
      "execution_count": null,
      "metadata": {},
      "outputs": [],
      "source": []
    }
  ],
  "metadata": {
    "colab": {
      "collapsed_sections": [
        "bZHs7DeZrcdT"
      ],
      "provenance": []
    },
    "kernelspec": {
      "display_name": "Python 3",
      "name": "python3"
    },
    "language_info": {
      "codemirror_mode": {
        "name": "ipython",
        "version": 3
      },
      "file_extension": ".py",
      "mimetype": "text/x-python",
      "name": "python",
      "nbconvert_exporter": "python",
      "pygments_lexer": "ipython3",
      "version": "3.9.12"
    }
  },
  "nbformat": 4,
  "nbformat_minor": 0
}
