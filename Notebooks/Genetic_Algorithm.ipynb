{
  "nbformat": 4,
  "nbformat_minor": 0,
  "metadata": {
    "colab": {
      "provenance": [],
      "collapsed_sections": [
        "bZHs7DeZrcdT"
      ]
    },
    "kernelspec": {
      "name": "python3",
      "display_name": "Python 3"
    },
    "language_info": {
      "name": "python"
    }
  },
  "cells": [
    {
      "cell_type": "markdown",
      "source": [
        "# Genetic Algorithm"
      ],
      "metadata": {
        "id": "T0MqRqhfrmjB"
      }
    },
    {
      "cell_type": "code",
      "source": [
        "import numpy as np\n",
        "from itertools import permutations,islice\n",
        "import random\n",
        "import pandas as pd\n",
        "import copy"
      ],
      "metadata": {
        "id": "emA23cpNsVyj"
      },
      "execution_count": null,
      "outputs": []
    },
    {
      "cell_type": "code",
      "source": [
        "class City:\n",
        "  def __init__(self,city,x,y):\n",
        "    self.city = city\n",
        "    self.x = x\n",
        "    self.y = y\n",
        "  def __repr__(self) -> str:\n",
        "      return f'(id:{self.city})'\n",
        "\n",
        "  def __eq__(self, other):\n",
        "      return (self.city == other.city)"
      ],
      "metadata": {
        "id": "9lVDooYG00AB"
      },
      "execution_count": null,
      "outputs": []
    },
    {
      "cell_type": "code",
      "source": [
        "class Chromosome:\n",
        "  def __init__(self,c_list,fitness=0, cost=0):\n",
        "    self.c_list = c_list\n",
        "    self.fitness = fitness\n",
        "    self.cost = cost\n",
        "  def __repr__(self) -> str:\n",
        "      return f'({self.c_list}, {self.cost})'"
      ],
      "metadata": {
        "id": "D3ujjH0hQt_I"
      },
      "execution_count": null,
      "outputs": []
    },
    {
      "cell_type": "code",
      "source": [
        "from google.colab import drive\n",
        "drive.mount('/content/drive')"
      ],
      "metadata": {
        "colab": {
          "base_uri": "https://localhost:8080/"
        },
        "id": "18GZGSF4hejL",
        "outputId": "089eb760-3d4e-4cae-8b81-65ffb6c7361e"
      },
      "execution_count": null,
      "outputs": [
        {
          "output_type": "stream",
          "name": "stdout",
          "text": [
            "Drive already mounted at /content/drive; to attempt to forcibly remount, call drive.mount(\"/content/drive\", force_remount=True).\n"
          ]
        }
      ]
    },
    {
      "cell_type": "code",
      "source": [
        "data_df = pd.read_csv('/content/drive/MyDrive/Random Search/15-Points.csv')"
      ],
      "metadata": {
        "id": "9q7bfF4j1pkW"
      },
      "execution_count": null,
      "outputs": []
    },
    {
      "cell_type": "code",
      "source": [
        "def calculate_distance(point1,point2):\n",
        "    return np.sqrt((point1.x-point2.x)**2+(point1.y-point2.y)**2)"
      ],
      "metadata": {
        "id": "esjilgv4u_GV"
      },
      "execution_count": null,
      "outputs": []
    },
    {
      "cell_type": "code",
      "source": [
        "def generate_distance_matrix(chromosome):\n",
        "    distance_matrix = np.zeros((len(chromosome.c_list),len(chromosome.c_list)))\n",
        "    for i in range(len(chromosome.c_list)):\n",
        "        for j in range(i,len(chromosome.c_list)):\n",
        "            dist = calculate_distance(chromosome.c_list[i],chromosome.c_list[j])\n",
        "            distance_matrix[i][j] = distance_matrix[j][i] = dist\n",
        "\n",
        "        distance_matrix[i][i] = np.inf\n",
        "    distance_matrix_dict = dict(zip([i.city for i in chromosome.c_list], distance_matrix.tolist()))\n",
        "\n",
        "    return copy.deepcopy(distance_matrix_dict)"
      ],
      "metadata": {
        "id": "Z-D3QXSFT1Ef"
      },
      "execution_count": null,
      "outputs": []
    },
    {
      "cell_type": "code",
      "source": [
        "def compute_cost(chromosome,distance_matrix_dict):\n",
        "  cost=0\n",
        "  for i in range(1,len(chromosome)):\n",
        "      cost += distance_matrix_dict[chromosome[i-1].city][chromosome[i].city-1]\n",
        "  cost += distance_matrix_dict[chromosome[0].city][chromosome[-1].city-1]\n",
        "  return cost"
      ],
      "metadata": {
        "id": "ibuPRmLYsgJl"
      },
      "execution_count": null,
      "outputs": []
    },
    {
      "cell_type": "code",
      "source": [
        "def compute_fitness(cost):\n",
        "  return 1/cost"
      ],
      "metadata": {
        "id": "iOqZeauWUfEi"
      },
      "execution_count": null,
      "outputs": []
    },
    {
      "cell_type": "code",
      "source": [
        "def generate_intial_population(popuation_size,intial_chromosome,distance_matrix_dict):\n",
        "  pop = []\n",
        "  for i in range(popuation_size):\n",
        "      c_list = np.random.permutation(intial_chromosome.c_list)\n",
        "      cost = compute_cost(c_list,distance_matrix_dict)\n",
        "      fitness = compute_fitness(cost)\n",
        "      pop.append(Chromosome(c_list,fitness=fitness,cost=cost))\n",
        "\n",
        "  return copy.deepcopy(np.array(pop))"
      ],
      "metadata": {
        "id": "LgUmvRIErpgU"
      },
      "execution_count": null,
      "outputs": []
    },
    {
      "cell_type": "code",
      "source": [
        "def elitism(old_pop,elit_size):\n",
        "  \n",
        "    sorted_pop = copy.deepcopy(np.array(sorted(old_pop, key=lambda chrom: chrom.cost)))\n",
        "\n",
        "    return sorted_pop[:elit_size]"
      ],
      "metadata": {
        "id": "VBKfMgP3tH4T"
      },
      "execution_count": null,
      "outputs": []
    },
    {
      "cell_type": "code",
      "source": [
        "def selection(pop,k):\n",
        "  parent_pool = np.random.choice(pop,size=k,replace=False)\n",
        "  return copy.deepcopy(sorted(parent_pool, key=lambda chrom: chrom.fitness, reverse=True)[:2])"
      ],
      "metadata": {
        "id": "KVI6um2dicwI"
      },
      "execution_count": null,
      "outputs": []
    },
    {
      "cell_type": "code",
      "source": [
        "def crossover_process(parent1, parent2):\n",
        "    child1 = copy.deepcopy(parent1)\n",
        "    child2 = copy.deepcopy(parent2)\n",
        "\n",
        "    slice_point1, slice_point2 = np.random.choice((range(len(parent1.c_list))),size=2,replace=False)\n",
        "    if slice_point1 > slice_point2:\n",
        "        slice_point1, slice_point2 = slice_point2, slice_point1\n",
        "    \n",
        "    for i in range(slice_point1, slice_point2):\n",
        "        temp1 = child1.c_list[i]\n",
        "        \n",
        "        indx = np.where(child2.c_list==temp1)[0][0]\n",
        "        \n",
        "        child2.c_list[i], child2.c_list[indx] = copy.deepcopy(child2.c_list[indx]), copy.deepcopy(child2.c_list[i])\n",
        "\n",
        "    return copy.deepcopy(child2)"
      ],
      "metadata": {
        "id": "zj3j3Fgjli17"
      },
      "execution_count": null,
      "outputs": []
    },
    {
      "cell_type": "code",
      "source": [
        "def crossover(pop,new_pop_size,distance_matrix_dict):\n",
        "    # number of k tournements\n",
        "    k=5\n",
        "    new_pop = []\n",
        "    for i in range(new_pop_size):\n",
        "        parent_1, parent_2 = selection(pop,k)\n",
        "        child_1 = crossover_process(parent_1, parent_2)\n",
        "\n",
        "        child_1.cost = compute_cost(child_1.c_list,distance_matrix_dict)\n",
        "        child_1.fitness = compute_fitness(child_1.cost)\n",
        "        \n",
        "        new_pop.append(child_1)\n",
        "    return copy.deepcopy(new_pop)"
      ],
      "metadata": {
        "id": "MYtkhEBY0XxP"
      },
      "execution_count": null,
      "outputs": []
    },
    {
      "cell_type": "code",
      "source": [
        "def mutation(new_pop,mutation_rate,distance_matrix_dict):\n",
        "\n",
        "    for indx in np.random.choice(list(range(len(new_pop))),size=int(len(new_pop)*mutation_rate),replace=False):\n",
        "\n",
        "        i,j = np.random.choice(list(range(len(new_pop[indx].c_list))),size=2)\n",
        "        new_pop[indx].c_list[i], new_pop[indx].c_list[j] = new_pop[indx].c_list[j], new_pop[indx].c_list[i]\n",
        "\n",
        "        new_pop[indx].cost = compute_cost(new_pop[indx].c_list,distance_matrix_dict)\n",
        "        \n",
        "        new_pop[indx].fitness = compute_fitness(new_pop[indx].cost)\n",
        "\n",
        "    return copy.deepcopy(new_pop)"
      ],
      "metadata": {
        "id": "MjubB06D-hol"
      },
      "execution_count": null,
      "outputs": []
    },
    {
      "cell_type": "code",
      "source": [
        "def GA_process(data_df,popuation_size,elit_size,mutation_rate,iterations):\n",
        "    intial_chromosome = Chromosome(c_list=[City(int(row[1][2]),row[1][0],row[1][1]) for row in data_df.iterrows()]) \n",
        "    distance_matrix_dict = generate_distance_matrix(intial_chromosome)\n",
        "    pop = generate_intial_population(popuation_size,intial_chromosome,distance_matrix_dict)\n",
        "\n",
        "    for i in range(iterations):\n",
        "\n",
        "        elitism_pop = elitism(pop,elit_size)\n",
        "\n",
        "        new_pop_size = popuation_size - elit_size\n",
        "        new_pop = crossover(pop,new_pop_size,distance_matrix_dict)\n",
        "\n",
        "        new_pop = mutation(copy.deepcopy(new_pop),mutation_rate,distance_matrix_dict)\n",
        "\n",
        "        pop = np.array(copy.deepcopy(elitism_pop.tolist()) + copy.deepcopy(new_pop))\n",
        "\n",
        "    return list(sorted(pop, key=lambda chrom: chrom.fitness, reverse=True))[0].cost"
      ],
      "metadata": {
        "id": "5DJ2lqP4-c6S"
      },
      "execution_count": null,
      "outputs": []
    },
    {
      "cell_type": "code",
      "source": [
        "GA_process(data_df,popuation_size=80,elit_size=10,mutation_rate=0.7,iterations=40)"
      ],
      "metadata": {
        "id": "JQEKBkxTz-of",
        "colab": {
          "base_uri": "https://localhost:8080/"
        },
        "outputId": "27a0dd80-3e55-41ec-9b81-f8394fc25343"
      },
      "execution_count": null,
      "outputs": [
        {
          "output_type": "execute_result",
          "data": {
            "text/plain": [
              "284.3810904080332"
            ]
          },
          "metadata": {},
          "execution_count": 41
        }
      ]
    }
  ]
}